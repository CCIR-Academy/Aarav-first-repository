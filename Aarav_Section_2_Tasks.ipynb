{
  "nbformat": 4,
  "nbformat_minor": 0,
  "metadata": {
    "colab": {
      "name": "Aarav Section 2 Tasks.ipynb",
      "provenance": [],
      "collapsed_sections": [],
      "toc_visible": true,
      "include_colab_link": true
    },
    "kernelspec": {
      "name": "python3",
      "display_name": "Python 3"
    },
    "language_info": {
      "name": "python"
    }
  },
  "cells": [
    {
      "cell_type": "markdown",
      "metadata": {
        "id": "view-in-github",
        "colab_type": "text"
      },
      "source": [
        "<a href=\"https://colab.research.google.com/github/CCIR-Academy/Aarav-first-repository/blob/main/Aarav_Section_2_Tasks.ipynb\" target=\"_parent\"><img src=\"https://colab.research.google.com/assets/colab-badge.svg\" alt=\"Open In Colab\"/></a>"
      ]
    },
    {
      "cell_type": "markdown",
      "metadata": {
        "id": "djlFpxXH4CoO"
      },
      "source": [
        "# Assignments\n"
      ]
    },
    {
      "cell_type": "code",
      "metadata": {
        "id": "7q17JevtRKJZ"
      },
      "source": [
        "# Challenge 1: Try to calculate the sum of all integers between 0 to 100 in your own way.\n",
        "# Challenge 2: Try to define a function which can take 2 parameters of integers, and calculate the sum of all the integers in between.\n",
        "# Challenge 3: Try to make the function you created for Challenge 2 able to handle inappropriate input exceptions elegantly."
      ],
      "execution_count": null,
      "outputs": []
    },
    {
      "cell_type": "markdown",
      "metadata": {
        "id": "V7U2orS8siDr"
      },
      "source": [
        "Challenge 4 (Difficult!): Try to define a class of \"mathBot\" which has the following features:\n",
        "- Can be created with arguments that specify date of creation, the name of the created instance, and other properties. These properties should be also editable.\n",
        "- Comes with a memory module that can store/retrieve/update/eliminate data in number into/from different datasets with different label names.\n",
        "- Comes with a stat module that can analyze the stored datasets statistically, such as generating the mean, median, variance, etc.\n",
        "- Is able to handle invalid input.\n",
        "- (Optional and Even Harder! Do it if you enjoy and want to explore) You can build your new class on the base of ChaiBot from Chai.ml! Try it out by referencing this guide: https://collectednotes.com/chai/your-first-chat-ai-in-10-minutes\n",
        "- (To Inifinity and Beyond): You can deploy your bot directly to chai.ml and play with it (Would be discussed on Section 4).\n",
        "    - In addition the the guide provided above, try this one: https://chai.ml/docs/basic\n"
      ]
    },
    {
      "cell_type": "code",
      "metadata": {
        "id": "IG88c9v6ELDV",
        "colab": {
          "base_uri": "https://localhost:8080/"
        },
        "outputId": "61c034d0-4f3d-4286-d7c1-7d9180f37173"
      },
      "source": [
        "#Challenge 1\n",
        "\n",
        "print(\"The sum of all integers between 0 and 100 is \", sum(range(101)))"
      ],
      "execution_count": null,
      "outputs": [
        {
          "output_type": "stream",
          "text": [
            "The sum of all integers between 0 and 100 is  5050\n"
          ],
          "name": "stdout"
        }
      ]
    },
    {
      "cell_type": "code",
      "metadata": {
        "colab": {
          "base_uri": "https://localhost:8080/"
        },
        "id": "qNVxxAVgEPC7",
        "outputId": "9e535433-4b4c-43fb-fe77-ccb679a2f55d"
      },
      "source": [
        "#Challeng 2\n",
        "\n",
        "def add(a,b):\n",
        "  return sum(range(a,b+1))\n",
        "\n",
        "a = int(input(\"Enter start Value: \"))\n",
        "b = int(input(\"Enter end value: \"))\n",
        "print(\"Sum of integers between {0} and {1} is {2}\".format(a,b,add(a,b)))"
      ],
      "execution_count": null,
      "outputs": [
        {
          "output_type": "stream",
          "text": [
            "Enter start Value: 20\n",
            "Enter end value: 22\n",
            "Sum of integers between 20 and 22 is 63\n",
            "CPU times: user 36.1 ms, sys: 6.08 ms, total: 42.2 ms\n",
            "Wall time: 6.18 s\n"
          ],
          "name": "stdout"
        }
      ]
    },
    {
      "cell_type": "code",
      "metadata": {
        "id": "pndbnlO6FZiM",
        "colab": {
          "base_uri": "https://localhost:8080/"
        },
        "outputId": "2d187a0b-60c6-4e4d-9a32-83c1228d7b34"
      },
      "source": [
        "#Challenge 3\n",
        "\n",
        "try:\n",
        "  def add(a,b):\n",
        "    return sum(range(a,b+1))\n",
        "\n",
        "  a = int(input(\"Enter start Value: \"))\n",
        "  b = int(input(\"Enter end value: \"))\n",
        "  print(\"Sum of integers between {0} and {1} is {2}\".format(a,b,add(a,b)))\n",
        "\n",
        "except Exception as e:\n",
        "  print(e)"
      ],
      "execution_count": null,
      "outputs": [
        {
          "output_type": "stream",
          "text": [
            "Enter start Value: 12\n",
            "Enter end value: aarav\n",
            "invalid literal for int() with base 10: 'aarav'\n"
          ],
          "name": "stdout"
        }
      ]
    },
    {
      "cell_type": "code",
      "metadata": {
        "colab": {
          "base_uri": "https://localhost:8080/"
        },
        "id": "aPunPzj5pbrZ",
        "outputId": "17a5e92a-9ae8-470c-e8dc-485f42cf907a"
      },
      "source": [
        "%pip install chaipy nest_asyncio"
      ],
      "execution_count": null,
      "outputs": [
        {
          "output_type": "stream",
          "text": [
            "Requirement already satisfied: chaipy in /usr/local/lib/python3.7/dist-packages (0.3.3)\n",
            "Requirement already satisfied: nest_asyncio in /usr/local/lib/python3.7/dist-packages (1.5.1)\n",
            "Requirement already satisfied: colorama>=0.4.4 in /usr/local/lib/python3.7/dist-packages (from chaipy) (0.4.4)\n",
            "Requirement already satisfied: typing-extensions>=3.7.4.3 in /usr/local/lib/python3.7/dist-packages (from chaipy) (3.7.4.3)\n",
            "Requirement already satisfied: halo>=0.0.31 in /usr/local/lib/python3.7/dist-packages (from chaipy) (0.0.31)\n",
            "Requirement already satisfied: requests>=2.23.0 in /usr/local/lib/python3.7/dist-packages (from chaipy) (2.23.0)\n",
            "Requirement already satisfied: segno>=1.3.3 in /usr/local/lib/python3.7/dist-packages (from chaipy) (1.3.3)\n",
            "Requirement already satisfied: six>=1.12.0 in /usr/local/lib/python3.7/dist-packages (from halo>=0.0.31->chaipy) (1.15.0)\n",
            "Requirement already satisfied: log-symbols>=0.0.14 in /usr/local/lib/python3.7/dist-packages (from halo>=0.0.31->chaipy) (0.0.14)\n",
            "Requirement already satisfied: termcolor>=1.1.0 in /usr/local/lib/python3.7/dist-packages (from halo>=0.0.31->chaipy) (1.1.0)\n",
            "Requirement already satisfied: spinners>=0.0.24 in /usr/local/lib/python3.7/dist-packages (from halo>=0.0.31->chaipy) (0.0.24)\n",
            "Requirement already satisfied: certifi>=2017.4.17 in /usr/local/lib/python3.7/dist-packages (from requests>=2.23.0->chaipy) (2021.5.30)\n",
            "Requirement already satisfied: urllib3!=1.25.0,!=1.25.1,<1.26,>=1.21.1 in /usr/local/lib/python3.7/dist-packages (from requests>=2.23.0->chaipy) (1.24.3)\n",
            "Requirement already satisfied: chardet<4,>=3.0.2 in /usr/local/lib/python3.7/dist-packages (from requests>=2.23.0->chaipy) (3.0.4)\n",
            "Requirement already satisfied: idna<3,>=2.5 in /usr/local/lib/python3.7/dist-packages (from requests>=2.23.0->chaipy) (2.10)\n"
          ],
          "name": "stdout"
        }
      ]
    },
    {
      "cell_type": "code",
      "metadata": {
        "id": "6fQqD_aGYte1",
        "colab": {
          "base_uri": "https://localhost:8080/"
        },
        "outputId": "80d80588-7811-4e3c-dd97-5658c20b96ec"
      },
      "source": [
        "#Challeng 4:\n",
        "\n",
        "from chai_py import ChaiBot, Update, TRoom\n",
        "import datetime, asyncio\n",
        "import nest_asyncio\n",
        "nest_asyncio.apply()\n",
        "\n",
        "class aaravCCIRbot(ChaiBot):\n",
        "  def setup(self) -> None:\n",
        "    self.logger.info(\"Hello World!\")\n",
        "    name = input(\"Give me a name:) \")\n",
        "    self.name = name\n",
        "    self.creationDate = datetime.datetime.now()\n",
        "    self.dataDict = ()\n",
        "  \n",
        "  async def on_message(self, update: Update) -> str:\n",
        "    if update.latest_message.text == \"name\":\n",
        "      return f\"My name is {self.name}. I was created on {self.creationDate}\"\n",
        "    if update.latest_message.text == \"Hello\" or \"Hi\" or \"Hey\":\n",
        "      return f\"Hey there! My name is {self.name}.\"\n",
        "    if update.latest_message.text == \"How are you doing today?\":\n",
        "      return f\"I'm doing ok, what about you?\"\n",
        "\n",
        "room = TRoom([aaravCCIRbot()])\n",
        "room.chat()\n"
      ],
      "execution_count": null,
      "outputs": [
        {
          "output_type": "stream",
          "text": [
            "2021-06-24 15:54:53 | INFO     | aaravCCIRbot | Hello World!\n",
            "Give me a name:) AaravWadhwaniIsSecretaryOfICT\n",
            "Starting TRoom. Press ctrl-c to escape.\n",
            "<<< __first\n",
            ">>> Hey there! My name is AaravWadhwaniIsSecretaryOfICT.\n",
            "Enter your message: Hi\n",
            "<<< Hi\n",
            ">>> Hey there! My name is AaravWadhwaniIsSecretaryOfICT.\n",
            "Interrupted TRoom.\n"
          ],
          "name": "stdout"
        }
      ]
    }
  ]
}